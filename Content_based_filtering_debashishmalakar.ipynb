{
  "nbformat": 4,
  "nbformat_minor": 0,
  "metadata": {
    "colab": {
      "name": "Content_based_filtering_debashishmalakar.ipynb",
      "provenance": [],
      "collapsed_sections": []
    },
    "kernelspec": {
      "name": "python3",
      "display_name": "Python 3"
    }
  },
  "cells": [
    {
      "cell_type": "markdown",
      "metadata": {
        "id": "ZkvJS-IZRM8l",
        "colab_type": "text"
      },
      "source": [
        "##Content Based Filtering : Debashish Malakar"
      ]
    },
    {
      "cell_type": "code",
      "metadata": {
        "id": "8vCCLFqGLLEy",
        "colab_type": "code",
        "colab": {}
      },
      "source": [
        "import numpy as np\n",
        "import pandas as pd"
      ],
      "execution_count": 0,
      "outputs": []
    },
    {
      "cell_type": "code",
      "metadata": {
        "id": "ng3tcXqiMby6",
        "colab_type": "code",
        "colab": {}
      },
      "source": [
        "df_posts = pd.read_csv(\"posts.csv\")\n",
        "df_users = pd.read_csv(\"users.csv\")\n",
        "df_views = pd.read_csv(\"views.csv\")"
      ],
      "execution_count": 0,
      "outputs": []
    },
    {
      "cell_type": "code",
      "metadata": {
        "id": "RZY0dBLfM_oa",
        "colab_type": "code",
        "colab": {
          "base_uri": "https://localhost:8080/",
          "height": 343
        },
        "outputId": "8d15c49e-3bf9-49a1-9aed-7f8b75ca6f5f"
      },
      "source": [
        "post_id_renamed = df_posts.rename(index = str,columns = {'_id' : 'post_id'})\n",
        "df_views_merge = df_views.merge(post_id_renamed,on = 'post_id')\n",
        "df_views_merge['category'] = df_views_merge['category'].fillna('')\n",
        "user_id_renamed = df_users.rename(index = str,columns = {'_id' : 'user_id'})\n",
        "df_views_merge = df_views_merge.merge(user_id_renamed,on = 'user_id')\n",
        "df_views_merge_user = df_views_merge.drop(columns=['post_id','timestamp','title','category',' post_type'])\n",
        "df_views_merge = df_views_merge.drop(columns = ['name','timestamp'])\n",
        "df_views_merge['Content'] = df_views_merge[['title', 'category','gender','academics',' post_type']].apply(lambda x: ' '.join(x), axis = 1)\n",
        "df_views_merge.head()"
      ],
      "execution_count": 665,
      "outputs": [
        {
          "output_type": "execute_result",
          "data": {
            "text/html": [
              "<div>\n",
              "<style scoped>\n",
              "    .dataframe tbody tr th:only-of-type {\n",
              "        vertical-align: middle;\n",
              "    }\n",
              "\n",
              "    .dataframe tbody tr th {\n",
              "        vertical-align: top;\n",
              "    }\n",
              "\n",
              "    .dataframe thead th {\n",
              "        text-align: right;\n",
              "    }\n",
              "</style>\n",
              "<table border=\"1\" class=\"dataframe\">\n",
              "  <thead>\n",
              "    <tr style=\"text-align: right;\">\n",
              "      <th></th>\n",
              "      <th>user_id</th>\n",
              "      <th>post_id</th>\n",
              "      <th>title</th>\n",
              "      <th>category</th>\n",
              "      <th>post_type</th>\n",
              "      <th>gender</th>\n",
              "      <th>academics</th>\n",
              "      <th>Content</th>\n",
              "    </tr>\n",
              "  </thead>\n",
              "  <tbody>\n",
              "    <tr>\n",
              "      <th>0</th>\n",
              "      <td>5df49b32cc709107827fb3c7</td>\n",
              "      <td>5ec821ddec493f4a2655889e</td>\n",
              "      <td>Save Earth.</td>\n",
              "      <td>Visual Arts|Graphic Design|Artistic design|Gra...</td>\n",
              "      <td>artwork</td>\n",
              "      <td>female</td>\n",
              "      <td>undergraduate</td>\n",
              "      <td>Save Earth. Visual Arts|Graphic Design|Artisti...</td>\n",
              "    </tr>\n",
              "    <tr>\n",
              "      <th>1</th>\n",
              "      <td>5df49b32cc709107827fb3c7</td>\n",
              "      <td>5ec1fd0974f7660d73aa0fd5</td>\n",
              "      <td>Daaku</td>\n",
              "      <td>Drawings</td>\n",
              "      <td>artwork</td>\n",
              "      <td>female</td>\n",
              "      <td>undergraduate</td>\n",
              "      <td>Daaku Drawings female undergraduate artwork</td>\n",
              "    </tr>\n",
              "    <tr>\n",
              "      <th>2</th>\n",
              "      <td>5df49b32cc709107827fb3c7</td>\n",
              "      <td>5ecd5d417023451e662235c5</td>\n",
              "      <td>Machine Learning”&amp;“Operations\" (MlOps)</td>\n",
              "      <td>Computer Technology|Machine Learning</td>\n",
              "      <td>blog</td>\n",
              "      <td>female</td>\n",
              "      <td>undergraduate</td>\n",
              "      <td>Machine Learning”&amp;“Operations\" (MlOps) Compute...</td>\n",
              "    </tr>\n",
              "    <tr>\n",
              "      <th>3</th>\n",
              "      <td>5df49b32cc709107827fb3c7</td>\n",
              "      <td>5ecb72c0eaff6b0c3a58a48e</td>\n",
              "      <td>EID MUBARAK</td>\n",
              "      <td>Photography|Architecture|Visual Arts|Graphic D...</td>\n",
              "      <td>artwork</td>\n",
              "      <td>female</td>\n",
              "      <td>undergraduate</td>\n",
              "      <td>EID MUBARAK Photography|Architecture|Visual Ar...</td>\n",
              "    </tr>\n",
              "    <tr>\n",
              "      <th>4</th>\n",
              "      <td>5df49b32cc709107827fb3c7</td>\n",
              "      <td>5ea5aacd10426255a7aa9b71</td>\n",
              "      <td>Photography Composition</td>\n",
              "      <td></td>\n",
              "      <td>project</td>\n",
              "      <td>female</td>\n",
              "      <td>undergraduate</td>\n",
              "      <td>Photography Composition  female undergraduate ...</td>\n",
              "    </tr>\n",
              "  </tbody>\n",
              "</table>\n",
              "</div>"
            ],
            "text/plain": [
              "                    user_id  ...                                            Content\n",
              "0  5df49b32cc709107827fb3c7  ...  Save Earth. Visual Arts|Graphic Design|Artisti...\n",
              "1  5df49b32cc709107827fb3c7  ...        Daaku Drawings female undergraduate artwork\n",
              "2  5df49b32cc709107827fb3c7  ...  Machine Learning”&“Operations\" (MlOps) Compute...\n",
              "3  5df49b32cc709107827fb3c7  ...  EID MUBARAK Photography|Architecture|Visual Ar...\n",
              "4  5df49b32cc709107827fb3c7  ...  Photography Composition  female undergraduate ...\n",
              "\n",
              "[5 rows x 8 columns]"
            ]
          },
          "metadata": {
            "tags": []
          },
          "execution_count": 665
        }
      ]
    },
    {
      "cell_type": "code",
      "metadata": {
        "id": "7z8LWrJ-UwLM",
        "colab_type": "code",
        "colab": {}
      },
      "source": [
        "from sklearn.feature_extraction.text import TfidfVectorizer\n",
        "\n",
        "\n",
        "tfv = TfidfVectorizer(min_df=3,  max_features=None, \n",
        "            strip_accents='unicode', analyzer='word',token_pattern=r'\\w{1,}',\n",
        "            ngram_range=(1, 3),\n",
        "            stop_words = 'english')\n",
        "\n"
      ],
      "execution_count": 0,
      "outputs": []
    },
    {
      "cell_type": "code",
      "metadata": {
        "id": "bzr_exvcY77p",
        "colab_type": "code",
        "colab": {}
      },
      "source": [
        "tfv_matrix = tfv.fit_transform(df_views_merge['Content'])"
      ],
      "execution_count": 0,
      "outputs": []
    },
    {
      "cell_type": "code",
      "metadata": {
        "id": "6-PB1PbkmWO1",
        "colab_type": "code",
        "colab": {}
      },
      "source": [
        "from sklearn.metrics.pairwise import sigmoid_kernel\n",
        "\n",
        "# Compute the sigmoid kernel\n",
        "sig = sigmoid_kernel(tfv_matrix, tfv_matrix)"
      ],
      "execution_count": 0,
      "outputs": []
    },
    {
      "cell_type": "code",
      "metadata": {
        "id": "pJqX4lmNXgF3",
        "colab_type": "code",
        "colab": {}
      },
      "source": [
        "indices = pd.Series(df_views_merge.index, index=df_views_merge['post_id']).drop_duplicates(keep=\"first\",inplace = False)"
      ],
      "execution_count": 0,
      "outputs": []
    },
    {
      "cell_type": "code",
      "metadata": {
        "id": "ZjJtVYwMtzwv",
        "colab_type": "code",
        "colab": {}
      },
      "source": [
        "def post_index(idxx,sig):\n",
        "  \n",
        "  sig_scores = list(enumerate(sig[idxx]))\n",
        "  score_series = sorted(sig_scores, key=lambda x: x[1], reverse=True)\n",
        "  sig_scores = score_series[1:]\n",
        "  recommend_post = [i[0] for i in sig_scores]\n",
        "  return recommend_post\n",
        "#post_index(idx,sig)"
      ],
      "execution_count": 0,
      "outputs": []
    },
    {
      "cell_type": "code",
      "metadata": {
        "id": "GMtkQEdhv_2r",
        "colab_type": "code",
        "colab": {}
      },
      "source": [
        "def recommend(df_views_merge,idxx,indices,post_indices):\n",
        "  a = np.array(df_views_merge['post_id'].iloc[post_indices])\n",
        "  original = np.array(df_views_merge['post_id'].iloc[idxx])\n",
        "  b= []\n",
        "  for i in a:\n",
        "    if len(b)>=5:\n",
        "      break\n",
        "    if i in b:\n",
        "      continue\n",
        "    if i == original:\n",
        "      continue\n",
        "    else:\n",
        "      b.append(i)\n",
        "    \n",
        "  ls = []\n",
        "  for i in range(len(b)):\n",
        "    if (indices[b[i]]).shape== ():\n",
        "      ls.append(indices[b[i]])\n",
        "    else:\n",
        "      ls.append(indices[b[i]][0])\n",
        "\n",
        "  print('recommended for {0}'.format(df_views_merge[['post_id','title','category',' post_type']].iloc[idxx]))\n",
        "  return df_views_merge[['post_id','title','category',' post_type']].iloc[ls]\n"
      ],
      "execution_count": 0,
      "outputs": []
    },
    {
      "cell_type": "code",
      "metadata": {
        "id": "oPNTX4jFmWOW",
        "colab_type": "code",
        "colab": {}
      },
      "source": [
        "def id(idx,indices):\n",
        "  idx = indices[post_id]\n",
        "  if idx.shape==():\n",
        "      idxx = idx\n",
        "  else:\n",
        "      idxx = idx[0]\n",
        "  return idxx"
      ],
      "execution_count": 0,
      "outputs": []
    },
    {
      "cell_type": "code",
      "metadata": {
        "id": "IxeRLtAKhtrr",
        "colab_type": "code",
        "colab": {}
      },
      "source": [
        "indices2 = pd.Series(df_views_merge.index, index=df_views_merge['user_id']).drop_duplicates(keep=\"first\",inplace = False)"
      ],
      "execution_count": 0,
      "outputs": []
    },
    {
      "cell_type": "code",
      "metadata": {
        "id": "H-fZsyVaojr7",
        "colab_type": "code",
        "colab": {}
      },
      "source": [
        "def post_index2(idxx2,sig):\n",
        "  \n",
        "  sig_scores = list(enumerate(sig[idxx2]))\n",
        "  score_series = sorted(sig_scores, key=lambda x: x[1], reverse=True)\n",
        "  sig_scores = score_series[1:]\n",
        "  recommend_post2 = [i[0] for i in sig_scores]\n",
        "  return recommend_post2\n",
        "\n",
        "\n"
      ],
      "execution_count": 0,
      "outputs": []
    },
    {
      "cell_type": "code",
      "metadata": {
        "id": "HmddM8OdozMT",
        "colab_type": "code",
        "colab": {}
      },
      "source": [
        "def recommend2(df_views_merge,idxx2,indices2,post_indices2):\n",
        "  a = np.array(df_views_merge['user_id'].iloc[post_indices2])\n",
        "  original = np.array(df_views_merge['user_id'].iloc[idxx2])\n",
        "  b= []\n",
        "  for i in a:\n",
        "    if len(b)>=5:\n",
        "      break\n",
        "    if i in b:\n",
        "      continue\n",
        "    if i == original:\n",
        "      continue\n",
        "    else:\n",
        "      b.append(i)\n",
        "    \n",
        "  ls = []\n",
        "  for i in range(len(b)):\n",
        "    if (indices2[b[i]]).shape== ():\n",
        "      ls.append(indices2[b[i]])\n",
        "    else:\n",
        "      ls.append(indices2[b[i]][0])\n",
        "\n",
        "  \n",
        "  return df_views_merge[['user_id']].iloc[ls]\n"
      ],
      "execution_count": 0,
      "outputs": []
    },
    {
      "cell_type": "code",
      "metadata": {
        "id": "peN_496rGoZ4",
        "colab_type": "code",
        "colab": {}
      },
      "source": [
        "def user_post_id(df,users_list,val):\n",
        "  post_ = []\n",
        "  for i in users_list:\n",
        "    post_list = []\n",
        "    post = df.loc[df['user_id'] == i[0]]\n",
        "    post2 = post['post_id']\n",
        "    a = np.array(post2)\n",
        "    post_.append(a)\n",
        "  user = df.loc[df['user_id'] ==val]\n",
        "  user_post = user['post_id']\n",
        "  b = np.array(user_post)\n",
        "  c = []\n",
        "  for j in post_:\n",
        "    for i in j:\n",
        "      if i in b:\n",
        "        continue\n",
        "      else:\n",
        "        c.append(i)\n",
        "  c = c[0:5]\n",
        "  return c"
      ],
      "execution_count": 0,
      "outputs": []
    },
    {
      "cell_type": "markdown",
      "metadata": {
        "id": "9voGlPynN9pX",
        "colab_type": "text"
      },
      "source": [
        "##User-based Recommendation"
      ]
    },
    {
      "cell_type": "code",
      "metadata": {
        "id": "dhJOwM4eri3i",
        "colab_type": "code",
        "colab": {
          "base_uri": "https://localhost:8080/",
          "height": 306
        },
        "outputId": "912802ec-6895-4927-a41c-dc660ad30a78"
      },
      "source": [
        "user_id = input(\"Enter user_id :\")\n",
        "idx2 = indices2[user_id]\n",
        "if idx2.shape==():\n",
        "    idxx2 = idx2\n",
        "else:\n",
        "    idxx2 = idx2[0]\n",
        "\n",
        "users_list = np.array(recommend2(df_views_merge,idxx2,indices2,post_index2(idxx2,sig))) #uses idxx\n",
        "orig_user = df_views_merge[['user_id']].iloc[idxx2]\n",
        "val = orig_user['user_id']\n",
        "c = user_post_id(df_views,users_list,val)\n",
        "final_posts=[]\n",
        "for i in c:\n",
        "  final_posts.append(indices[i][0])\n",
        "print('Recommendations for {0}'.format(df_views_merge_user.iloc[idxx2]))\n",
        "df_views_merge[['post_id','title','category',' post_type']].iloc[final_posts]"
      ],
      "execution_count": 677,
      "outputs": [
        {
          "output_type": "stream",
          "text": [
            "Enter user_id :5d9a2982979d5962253c2f81\n",
            "Recommendations for user_id      5d9a2982979d5962253c2f81\n",
            "name                  Nischaya Sharma\n",
            "gender                           male\n",
            "academics               undergraduate\n",
            "Name: 1374, dtype: object\n"
          ],
          "name": "stdout"
        },
        {
          "output_type": "execute_result",
          "data": {
            "text/html": [
              "<div>\n",
              "<style scoped>\n",
              "    .dataframe tbody tr th:only-of-type {\n",
              "        vertical-align: middle;\n",
              "    }\n",
              "\n",
              "    .dataframe tbody tr th {\n",
              "        vertical-align: top;\n",
              "    }\n",
              "\n",
              "    .dataframe thead th {\n",
              "        text-align: right;\n",
              "    }\n",
              "</style>\n",
              "<table border=\"1\" class=\"dataframe\">\n",
              "  <thead>\n",
              "    <tr style=\"text-align: right;\">\n",
              "      <th></th>\n",
              "      <th>post_id</th>\n",
              "      <th>title</th>\n",
              "      <th>category</th>\n",
              "      <th>post_type</th>\n",
              "    </tr>\n",
              "  </thead>\n",
              "  <tbody>\n",
              "    <tr>\n",
              "      <th>418</th>\n",
              "      <td>5ed3820f76027d35905ccac8</td>\n",
              "      <td>Configure Docker with Django; PostgreSQL; Pg-a...</td>\n",
              "      <td>Computer Technology|Computer Application|Infor...</td>\n",
              "      <td>blog</td>\n",
              "    </tr>\n",
              "    <tr>\n",
              "      <th>73</th>\n",
              "      <td>5ed1ff0276027d35905cc60d</td>\n",
              "      <td>AWS services and how to launch OS on AWS Cloud</td>\n",
              "      <td>Computer Technology|Cloud Computing</td>\n",
              "      <td>blog</td>\n",
              "    </tr>\n",
              "    <tr>\n",
              "      <th>76</th>\n",
              "      <td>5ecf96e876027d35905cbf46</td>\n",
              "      <td>GAN's Part(2)</td>\n",
              "      <td>Computer Technology|Machine Learning</td>\n",
              "      <td>blog</td>\n",
              "    </tr>\n",
              "    <tr>\n",
              "      <th>579</th>\n",
              "      <td>5ecfa0ca76027d35905cbf57</td>\n",
              "      <td>Recommend Systems Machine Learning</td>\n",
              "      <td>Computer Technology|Machine Learning</td>\n",
              "      <td>blog</td>\n",
              "    </tr>\n",
              "    <tr>\n",
              "      <th>89</th>\n",
              "      <td>5ed0e20776027d35905cc2fe</td>\n",
              "      <td>Here are 7 of my favourite books that I've rea...</td>\n",
              "      <td>Literature|Stories|Fictions|Movements in Liter...</td>\n",
              "      <td>blog</td>\n",
              "    </tr>\n",
              "  </tbody>\n",
              "</table>\n",
              "</div>"
            ],
            "text/plain": [
              "                      post_id  ...  post_type\n",
              "418  5ed3820f76027d35905ccac8  ...       blog\n",
              "73   5ed1ff0276027d35905cc60d  ...       blog\n",
              "76   5ecf96e876027d35905cbf46  ...       blog\n",
              "579  5ecfa0ca76027d35905cbf57  ...       blog\n",
              "89   5ed0e20776027d35905cc2fe  ...       blog\n",
              "\n",
              "[5 rows x 4 columns]"
            ]
          },
          "metadata": {
            "tags": []
          },
          "execution_count": 677
        }
      ]
    },
    {
      "cell_type": "markdown",
      "metadata": {
        "id": "HzrbnnxVNwuP",
        "colab_type": "text"
      },
      "source": [
        "##Post-based Recommendation "
      ]
    },
    {
      "cell_type": "code",
      "metadata": {
        "id": "RcQ5HNYvwB3l",
        "colab_type": "code",
        "colab": {
          "base_uri": "https://localhost:8080/",
          "height": 306
        },
        "outputId": "4cb1c89c-7d6f-4b1e-c165-084410a72003"
      },
      "source": [
        "#post-based recommendation\n",
        "post_id = input(\"Enter post_id :\")\n",
        "idx = indices[post_id]\n",
        "idxx = id(idx,indices)\n",
        "recommend(df_views_merge,idxx,indices,post_index(idxx,sig))"
      ],
      "execution_count": 678,
      "outputs": [
        {
          "output_type": "stream",
          "text": [
            "Enter post_id :5ed1ff0276027d35905cc60d\n",
            "recommended for post_id                             5ed1ff0276027d35905cc60d\n",
            "title         AWS services and how to launch OS on AWS Cloud\n",
            "category                 Computer Technology|Cloud Computing\n",
            " post_type                                              blog\n",
            "Name: 73, dtype: object\n"
          ],
          "name": "stdout"
        },
        {
          "output_type": "execute_result",
          "data": {
            "text/html": [
              "<div>\n",
              "<style scoped>\n",
              "    .dataframe tbody tr th:only-of-type {\n",
              "        vertical-align: middle;\n",
              "    }\n",
              "\n",
              "    .dataframe tbody tr th {\n",
              "        vertical-align: top;\n",
              "    }\n",
              "\n",
              "    .dataframe thead th {\n",
              "        text-align: right;\n",
              "    }\n",
              "</style>\n",
              "<table border=\"1\" class=\"dataframe\">\n",
              "  <thead>\n",
              "    <tr style=\"text-align: right;\">\n",
              "      <th></th>\n",
              "      <th>post_id</th>\n",
              "      <th>title</th>\n",
              "      <th>category</th>\n",
              "      <th>post_type</th>\n",
              "    </tr>\n",
              "  </thead>\n",
              "  <tbody>\n",
              "    <tr>\n",
              "      <th>187</th>\n",
              "      <td>5ed09ad076027d35905cc15f</td>\n",
              "      <td>Understanding Cloud Computing(AWS)</td>\n",
              "      <td>Computer Technology|Cloud Computing</td>\n",
              "      <td>blog</td>\n",
              "    </tr>\n",
              "    <tr>\n",
              "      <th>178</th>\n",
              "      <td>5e77738bcfc8b713f5ac7b36</td>\n",
              "      <td>Cloud Computing</td>\n",
              "      <td>Computer Technology|Cloud Computing</td>\n",
              "      <td>blog</td>\n",
              "    </tr>\n",
              "    <tr>\n",
              "      <th>834</th>\n",
              "      <td>5ed229d976027d35905cc666</td>\n",
              "      <td>Cloud Computing</td>\n",
              "      <td>Computer Technology|Computation|Computer Appli...</td>\n",
              "      <td>blog</td>\n",
              "    </tr>\n",
              "    <tr>\n",
              "      <th>1335</th>\n",
              "      <td>5e966ad3a3258347b42f2aaf</td>\n",
              "      <td>8 Best Machine Learning Courses for 2020</td>\n",
              "      <td>Computer Technology|Cloud Computing|Artificial...</td>\n",
              "      <td>blog</td>\n",
              "    </tr>\n",
              "    <tr>\n",
              "      <th>1307</th>\n",
              "      <td>5e2f1811c85ab714a7da670d</td>\n",
              "      <td>Abacus</td>\n",
              "      <td>Mathematics|Linear Algebra</td>\n",
              "      <td>blog</td>\n",
              "    </tr>\n",
              "  </tbody>\n",
              "</table>\n",
              "</div>"
            ],
            "text/plain": [
              "                       post_id  ...  post_type\n",
              "187   5ed09ad076027d35905cc15f  ...       blog\n",
              "178   5e77738bcfc8b713f5ac7b36  ...       blog\n",
              "834   5ed229d976027d35905cc666  ...       blog\n",
              "1335  5e966ad3a3258347b42f2aaf  ...       blog\n",
              "1307  5e2f1811c85ab714a7da670d  ...       blog\n",
              "\n",
              "[5 rows x 4 columns]"
            ]
          },
          "metadata": {
            "tags": []
          },
          "execution_count": 678
        }
      ]
    },
    {
      "cell_type": "code",
      "metadata": {
        "id": "qazXQN02Nniq",
        "colab_type": "code",
        "colab": {}
      },
      "source": [
        ""
      ],
      "execution_count": 0,
      "outputs": []
    }
  ]
}